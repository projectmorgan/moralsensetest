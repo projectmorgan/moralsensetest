{
 "cells": [
  {
   "cell_type": "markdown",
   "metadata": {},
   "source": [
    "#Your Guide to Managing the Moral Sense Test"
   ]
  },
  {
   "cell_type": "markdown",
   "metadata": {},
   "source": [
    "*Please note that, although we can obviously link to surveys through Qualtrics and other 3rd-party software, it is STRONGLY PREFERRED that you use code that can interface with SQL-- for instance, Javascript or Flash.*"
   ]
  },
  {
   "cell_type": "markdown",
   "metadata": {},
   "source": [
    "## How to add a Qualtrics study...."
   ]
  },
  {
   "cell_type": "markdown",
   "metadata": {},
   "source": [
    "There are **four** places in the html that you need to add you link to. All of these can be found in our webfaction server space. To find these pages, first SFTP in to the server (see Morgan for log in credentials). Then, navigate to webapps > phpmst. This is where the live webpages live."
   ]
  },
  {
   "cell_type": "markdown",
   "metadata": {},
   "source": [
    "1. index.html\n",
    "2. user.php\n",
    "3. studies.html\n",
    "4. templates/studies_user.php"
   ]
  },
  {
   "cell_type": "markdown",
   "metadata": {},
   "source": [
    "Studies can always be found in the **SLIDE 2** section of the page. They are formatted to be displayed in rows of five. Index.html and user.php should only display the top five \"most popular\" studies, while studies.html and studies_user.php are meant to be full lists of all the studies we have on the website at that time! So, if you're adding a study to index and user, you should simply replace one of the current studies. However, when adding to the studies pages, you can simply add yours as the last in line. You may need to make a new row so that the formatting stays pretty."
   ]
  },
  {
   "cell_type": "markdown",
   "metadata": {},
   "source": [
    "The code will look something like this:"
   ]
  },
  {
   "cell_type": "code",
   "execution_count": null,
   "metadata": {
    "collapsed": true
   },
   "outputs": [],
   "source": [
    "<div class=\"col-12 col-sm-2 with-hover-text\">\n",
    "\t<p><a target=\"_blank\" href=\"harvard.qualtrics.edu/MYSTUDYLINK\"><i class=\"icon icon-map-marker\"></i></p>\n",
    "\t<h2 class=\"font-semibold\">STUDY NAME</h2>\n",
    "\t<h4 class=\"font-thin\">Short enticing blurb here</h4>\n",
    "\t<h4 class=\"font-semibold\">estimated time: 10 minutes</h4></a>\n",
    "</div><!-- /col12 -->"
   ]
  },
  {
   "cell_type": "markdown",
   "metadata": {},
   "source": [
    "Note that there are lots of icons to choose from-- try to pick one that provides some visual variation on the page! The full list can be found at the end of this tutorial."
   ]
  },
  {
   "cell_type": "markdown",
   "metadata": {},
   "source": [
    "That's all! Adding a study with Qualtrics is pretty painless, but it also doesn't have the advantages of full integration with our system. You won't get demographics or cross-correlations with other measures from users."
   ]
  },
  {
   "cell_type": "markdown",
   "metadata": {},
   "source": [
    "##How to add a Javascript or Flash study..."
   ]
  },
  {
   "cell_type": "markdown",
   "metadata": {},
   "source": [
    "###Frontend"
   ]
  },
  {
   "cell_type": "markdown",
   "metadata": {},
   "source": [
    "\n",
    "There are **four** places in the html that you need to add you link to. All of these can be found in our webfaction server space. To find these pages, first SFTP in to the server (see Morgan for log in credentials). Then, navigate to webapps > phpmst. This is where the live webpages live."
   ]
  },
  {
   "cell_type": "markdown",
   "metadata": {},
   "source": [
    "1. index.html\n",
    "2. user.php\n",
    "3. studies.html\n",
    "4. templates/studies_user.php"
   ]
  },
  {
   "cell_type": "markdown",
   "metadata": {},
   "source": [
    "Studies can always be found in the **SLIDE 2** section of the page. They are formatted to be displayed in rows of five. Index.html and user.php should only display the top five \"most popular\" studies, while studies.html and studies_user.php are meant to be full lists of all the studies we have on the website at that time! So, if you're adding a study to index and user, you should simply replace one of the current studies. However, when adding to the studies pages, you can simply add yours as the last in line. You may need to make a new row so that the formatting stays pretty."
   ]
  },
  {
   "cell_type": "markdown",
   "metadata": {},
   "source": [
    "The code will look something like this:"
   ]
  },
  {
   "cell_type": "code",
   "execution_count": null,
   "metadata": {
    "collapsed": true
   },
   "outputs": [],
   "source": [
    "<div class=\"col-12 col-sm-2 with-hover-text\">\n",
    "\t<p><a target=\"_blank\" href=\"turkgate.php?studyname\"><i class=\"icon icon-map-marker\"></i></p>\n",
    "\t<h2 class=\"font-semibold\">STUDY NAME</h2>\n",
    "\t<h4 class=\"font-thin\">Short enticing blurb here</h4>\n",
    "\t<h4 class=\"font-semibold\">estimated time: 10 minutes</h4></a>\n",
    "</div><!-- /col12 -->"
   ]
  },
  {
   "cell_type": "markdown",
   "metadata": {},
   "source": [
    "Note that there are lots of icons to choose from-- try to pick one that provides some visual variation on the page! The full list can be found at the end of this tutorial."
   ]
  },
  {
   "cell_type": "markdown",
   "metadata": {},
   "source": [
    "We use turkgate.php to check whether or not users (or visitors, within the same session) have already taken this or a similar test. If not, it does one of two things:\n",
    "1. IF ITS NOT A REGISTERED USER: Directs them to **visitordem.php?studyname**, which collects visitor's demographic information and then redirects them to studyname.html. So, if my experiment lives on empathy.html, my link should be turkgate.php?empathy\n",
    "2. IF IT IS A USER: Directs them to the study at studyname.html without going through demographics."
   ]
  },
  {
   "cell_type": "markdown",
   "metadata": {},
   "source": [
    "**If you need TurkGate functionality amongst a group of studies (rather than just making sure no one is taking the same survey twice), please see Morgan.**"
   ]
  },
  {
   "cell_type": "markdown",
   "metadata": {},
   "source": [
    "###Setting up the SQL table"
   ]
  },
  {
   "cell_type": "markdown",
   "metadata": {},
   "source": [
    "Although you're welcome to use your own SQL set up if you're more comfortable doing it that way, again I urge you to follow this tutorial so that the lab can get the most out of this data."
   ]
  },
  {
   "cell_type": "markdown",
   "metadata": {},
   "source": [
    "First of all, see Morgan for the log in credentials to the SQL database. There's a fairly good interface that we can use, which can be accessed at [this link](web402.webfaction.com/phpMyAdmin/index.php), if you do not have a preferred SQL client."
   ]
  },
  {
   "cell_type": "markdown",
   "metadata": {},
   "source": [
    "For now, while we still have a manageable number of studies and tables, I'd prefer that all MST surveys have their data tables **in the database \"mst\".** Why? Well, it helps us efficiently insert information in to multiple different tables at once (the way we must in order to keep demographics separate from responses separate from identifying information). **The name of your data table should match the name you used for your experiment web page.** If my survey is at empathy.html, the table name should be empathy."
   ]
  },
  {
   "cell_type": "markdown",
   "metadata": {},
   "source": [
    "**Your table should have the following columns:**\n",
    "1. rt\n",
    "2. response\n",
    "3. scenNum (if you're using randomization)\n",
    "4. trialNum\n",
    "5. userid\n",
    "6. visitorid\n",
    "7. timestamp (time of row insertion)"
   ]
  },
  {
   "cell_type": "markdown",
   "metadata": {},
   "source": [
    "*Feel free to copy the structure of an existing table in the database. You can do this by clicking on one of the tables (such as empathy) and clicking on More > Operations in the top right corner. The fourth cell of that page will give you the option to copy table structure into a new table with your desired name. Even if you decide not to do this, **please check that your data types are consistent**.*"
   ]
  },
  {
   "cell_type": "markdown",
   "metadata": {},
   "source": [
    "You'll need to do one more thing in SQL. Go to the table **useremails** and add a column with the name of your study. This column should hold a boolean value that defaults to FALSE or 0. This is the table we use to record which users have taken which surveys. Every time a given user takes a new survey, we look up their email address, and revise the 0 in the test's column to a 1."
   ]
  },
  {
   "cell_type": "markdown",
   "metadata": {},
   "source": [
    "###Saving experiment data to SQL"
   ]
  },
  {
   "cell_type": "markdown",
   "metadata": {},
   "source": [
    "I have added several templates to this repo to illustrate a working experiment. There are three relevant files: **studyname.html**, **parameters_studyname.js** and **saveDataSTUDYNAME.php**. Here's how they work together."
   ]
  },
  {
   "cell_type": "markdown",
   "metadata": {},
   "source": [
    "The *parameters* file contains information such as the text of the scenarios you'll be showing (if it's a standard vignette study) and number of trials. The *parameters* file is read in at the top incantation of *studyname.html*. This file is the actual UI for the experiment. My template uses jsPsych to render a simple likert experiment. Consent and debrief, as well as a function that provides feedback to the user (**strongly recommended!**) are included in this template. studyname.html collects data from the experiment, and upon finish sends the data, the name of the SQL table, and variables (such as randomized order) to *saveDataSTUDYNAME.php*. This final script parses the data and collects the session variables (userid and visitorid) in order to generate rows to be inserted into the SQL table specified. Finally, it connects to our database and inserts one row per trial. If the test-taker is a user with an email on file, it also flips the boolean for the current study in the **useremails** database."
   ]
  },
  {
   "cell_type": "markdown",
   "metadata": {},
   "source": [
    "**Okay, now that I've got my scripts working, where do I put them?**"
   ]
  },
  {
   "cell_type": "markdown",
   "metadata": {},
   "source": [
    "1. The studyname.html file goes in webapps/phpmst/experiment. \n",
    "2. The parameters_studyname.js file goes in webapps/phpmst/experiment/public/js\n",
    "3. The saveDataSTUDYNAME.php file goes in webapps/phpmst/experiment/data"
   ]
  },
  {
   "cell_type": "markdown",
   "metadata": {},
   "source": [
    "More information is of course available in the commented code of these templates. Although everyone's javascript interface will be a little bit different, I do think the saveData function will stay essentially the same. \n",
    "\n",
    "The most challenging thing about this workflow is accessing the data. jsPsych has a pretty clunky data structure, so you might need to do some debugging and finagling to get your responses to record correctly. See [here](http://docs.jspsych.org/core_library/jspsych-data/) and [here](https://groups.google.com/forum/#!forum/jspsych) for documentation relating to this. "
   ]
  },
  {
   "cell_type": "markdown",
   "metadata": {},
   "source": [
    "##Useful SQL Commands and Tidbits"
   ]
  },
  {
   "cell_type": "markdown",
   "metadata": {},
   "source": [
    "#"
   ]
  },
  {
   "cell_type": "markdown",
   "metadata": {},
   "source": [
    "##Full list of available icons"
   ]
  },
  {
   "cell_type": "markdown",
   "metadata": {},
   "source": [
    ".icon-glass\n",
    ".icon-music\n",
    ".icon-search\n",
    ".icon-envelope-alt\n",
    ".icon-heart\n",
    ".icon-star\n",
    ".icon-star-empty\n",
    ".icon-user\n",
    ".icon-film\n",
    ".icon-th-large\n",
    ".icon-th\n",
    ".icon-th-list\n",
    ".icon-ok\n",
    ".icon-remove\n",
    ".icon-zoom-in\n",
    ".icon-zoom-out\n",
    ".icon-power-off\n",
    ".icon-signal\n",
    ".icon-gear\n",
    ".icon-trash\n",
    ".icon-home\n",
    ".icon-file-alt\n",
    ".icon-time\n",
    ".icon-road\n",
    ".icon-download-alt\n",
    ".icon-download\n",
    ".icon-upload\n",
    ".icon-inbox\n",
    ".icon-play-circle\n",
    ".icon-rotate-right\n",
    ".icon-refresh\n",
    ".icon-list-alt\n",
    ".icon-lock\n",
    ".icon-flag\n",
    ".icon-headphones\n",
    ".icon-volume-off\n",
    ".icon-volume-down\n",
    ".icon-volume-up\n",
    ".icon-qrcode\n",
    ".icon-barcode\n",
    ".icon-tag\n",
    ".icon-tags\n",
    ".icon-book\n",
    ".icon-bookmark\n",
    ".icon-print\n",
    ".icon-camera\n",
    ".icon-font\n",
    ".icon-bold\n",
    ".icon-italic\n",
    ".icon-text-height\n",
    ".icon-text-width\n",
    ".icon-align-left\n",
    ".icon-align-center\n",
    ".icon-align-right\n",
    ".icon-align-justify\n",
    ".icon-list\n",
    ".icon-indent-left\n",
    ".icon-indent-right\n",
    ".icon-facetime-video\n",
    ".icon-picture\n",
    ".icon-pencil\n",
    ".icon-map-marker\n",
    ".icon-adjust\n",
    ".icon-tint\n",
    ".icon-edit\n",
    ".icon-share\n",
    ".icon-check\n",
    ".icon-move\n",
    ".icon-step-backward\n",
    ".icon-fast-backward\n",
    ".icon-backward\n",
    ".icon-play\n",
    ".icon-pause\n",
    ".icon-stop\n",
    ".icon-forward\n",
    ".icon-fast-forward\n",
    ".icon-step-forward\n",
    ".icon-eject\n",
    ".icon-chevron-left\n",
    ".icon-chevron-right\n",
    ".icon-plus-sign\n",
    ".icon-minus-sign\n",
    ".icon-remove-sign\n",
    ".icon-ok-sign\n",
    ".icon-question-sign\n",
    ".icon-info-sign\n",
    ".icon-screenshot\n",
    ".icon-remove-circle\n",
    ".icon-ok-circle\n",
    ".icon-ban-circle\n",
    ".icon-arrow-left\n",
    ".icon-arrow-right\n",
    ".icon-arrow-up\n",
    ".icon-arrow-down\n",
    ".icon-mail-forward\n",
    ".icon-resize-full\n",
    ".icon-resize-small\n",
    ".icon-plus\n",
    ".icon-minus\n",
    ".icon-asterisk\n",
    ".icon-exclamation-sign\n",
    ".icon-gift\n",
    ".icon-leaf\n",
    ".icon-fire\n",
    ".icon-eye-open\n",
    ".icon-eye-close\n",
    ".icon-warning-sign\n",
    ".icon-plane\n",
    ".icon-calendar\n",
    ".icon-random\n",
    ".icon-comment\n",
    ".icon-magnet\n",
    ".icon-chevron-up\n",
    ".icon-chevron-down\n",
    ".icon-retweet\n",
    ".icon-shopping-cart\n",
    ".icon-folder-close\n",
    ".icon-folder-open\n",
    ".icon-resize-vertical\n",
    ".icon-resize-horizontal\n",
    ".icon-bar-chart\n",
    ".icon-twitter-sign\n",
    ".icon-facebook-sign\n",
    ".icon-camera-retro\n",
    ".icon-key\n",
    ".icon-gears\n",
    ".icon-comments\n",
    ".icon-thumbs-up-alt\n",
    ".icon-thumbs-down-alt\n",
    ".icon-star-half\n",
    ".icon-heart-empty\n",
    ".icon-signout\n",
    ".icon-linkedin-sign\n",
    ".icon-pushpin\n",
    ".icon-external-link\n",
    ".icon-signin\n",
    ".icon-trophy\n",
    ".icon-github-sign\n",
    ".icon-upload-alt\n",
    ".icon-lemon\n",
    ".icon-phone\n",
    ".icon-unchecked\n",
    ".icon-bookmark-empty\n",
    ".icon-phone-sign\n",
    ".icon-twitter\n",
    ".icon-facebook\n",
    ".icon-github\n",
    ".icon-unlock\n",
    ".icon-credit-card\n",
    ".icon-rss\n",
    ".icon-hdd\n",
    ".icon-bullhorn\n",
    ".icon-bell\n",
    ".icon-certificate\n",
    ".icon-hand-right\n",
    ".icon-hand-left\n",
    ".icon-hand-up\n",
    ".icon-hand-down\n",
    ".icon-circle-arrow-left\n",
    ".icon-circle-arrow-right\n",
    ".icon-circle-arrow-up\n",
    ".icon-circle-arrow-down\n",
    ".icon-globe\n",
    ".icon-wrench\n",
    ".icon-tasks\n",
    ".icon-filter\n",
    ".icon-briefcase\n",
    ".icon-fullscreen\n",
    ".icon-group\n",
    ".icon-link\n",
    ".icon-cloud\n",
    ".icon-beaker\n",
    ".icon-cut\n",
    ".icon-copy\n",
    ".icon-paperclip\n",
    ".icon-save\n",
    ".icon-sign-blank\n",
    ".icon-reorder\n",
    ".icon-list-ul\n",
    ".icon-list-ol\n",
    ".icon-strikethrough\n",
    ".icon-underline\n",
    ".icon-table\n",
    ".icon-magic\n",
    ".icon-truck\n",
    ".icon-pinterest\n",
    ".icon-pinterest-sign\n",
    ".icon-google-plus-sign\n",
    ".icon-google-plus\n",
    ".icon-money\n",
    ".icon-caret-down\n",
    ".icon-caret-up\n",
    ".icon-caret-left\n",
    ".icon-caret-right\n",
    ".icon-columns\n",
    ".icon-sort\n",
    ".icon-sort-down\n",
    ".icon-sort-up\n",
    ".icon-envelope\n",
    ".icon-linkedin\n",
    ".icon-rotate-left\n",
    ".icon-legal\n",
    ".icon-dashboard\n",
    ".icon-comment-alt\n",
    ".icon-comments-alt\n",
    ".icon-bolt\n",
    ".icon-sitemap\n",
    ".icon-umbrella\n",
    ".icon-paste\n",
    ".icon-lightbulb\n",
    ".icon-exchange\n",
    ".icon-cloud-download\n",
    ".icon-cloud-upload\n",
    ".icon-user-md\n",
    ".icon-stethoscope\n",
    ".icon-suitcase\n",
    ".icon-bell-alt\n",
    ".icon-coffee\n",
    ".icon-food\n",
    ".icon-file-text-alt\n",
    ".icon-building\n",
    ".icon-hospital\n",
    ".icon-ambulance\n",
    ".icon-medkit\n",
    ".icon-fighter-jet\n",
    ".icon-beer\n",
    ".icon-h-sign\n",
    ".icon-plus-sign-alt\n",
    ".icon-double-angle-left\n",
    ".icon-double-angle-right\n",
    ".icon-double-angle-up\n",
    ".icon-double-angle-down\n",
    ".icon-angle-left\n",
    ".icon-angle-right\n",
    ".icon-angle-up\n",
    ".icon-angle-down\n",
    ".icon-desktop\n",
    ".icon-laptop\n",
    ".icon-tablet\n",
    ".icon-mobile-phone\n",
    ".icon-circle-blank\n",
    ".icon-quote-left\n",
    ".icon-quote-right\n",
    ".icon-spinner\n",
    ".icon-circle\n",
    ".icon-mail-reply\n",
    ".icon-github-alt\n",
    ".icon-folder-close-alt\n",
    ".icon-folder-open-alt\n",
    ".icon-expand-alt\n",
    ".icon-collapse-alt\n",
    ".icon-smile\n",
    ".icon-frown\n",
    ".icon-meh\n",
    ".icon-gamepad\n",
    ".icon-keyboard\n",
    ".icon-flag-alt\n",
    ".icon-flag-checkered\n",
    ".icon-terminal\n",
    ".icon-code\n",
    ".icon-reply-all\n",
    ".icon-mail-reply-all\n",
    ".icon-star-half-full\n",
    ".icon-location-arrow\n",
    ".icon-crop\n",
    ".icon-code-fork\n",
    ".icon-unlink\n",
    ".icon-question\n",
    ".icon-info\n",
    ".icon-exclamation\n",
    ".icon-superscript\n",
    ".icon-subscript\n",
    ".icon-eraser\n",
    ".icon-puzzle-piece\n",
    ".icon-microphone\n",
    ".icon-microphone-off\n",
    ".icon-shield\n",
    ".icon-calendar-empty\n",
    ".icon-fire-extinguisher\n",
    ".icon-rocket\n",
    ".icon-maxcdn\n",
    ".icon-chevron-sign-left\n",
    ".icon-chevron-sign-right\n",
    ".icon-chevron-sign-up\n",
    ".icon-chevron-sign-down\n",
    ".icon-html5\n",
    ".icon-css3\n",
    ".icon-anchor\n",
    ".icon-unlock-alt\n",
    ".icon-bullseye\n",
    ".icon-ellipsis-horizontal\n",
    ".icon-ellipsis-vertical\n",
    ".icon-rss-sign\n",
    ".icon-play-sign\n",
    ".icon-ticket\n",
    ".icon-minus-sign-alt\n",
    ".icon-check-minus\n",
    ".icon-level-up\n",
    ".icon-level-down\n",
    ".icon-check-sign\n",
    ".icon-edit-sign\n",
    ".icon-external-link-sign\n",
    ".icon-share-sign\n",
    ".icon-compass\n",
    ".icon-collapse\n",
    ".icon-collapse-top\n",
    ".icon-expand\n",
    ".icon-euro\n",
    ".icon-gbp\n",
    ".icon-dollar\n",
    ".icon-rupee\n",
    ".icon-yen\n",
    ".icon-renminbi\n",
    ".icon-won\n",
    ".icon-bitcoin\n",
    ".icon-file\n",
    ".icon-file-text\n",
    ".icon-sort-by-alphabet\n",
    ".icon-sort-by-alphabet-alt\n",
    ".icon-sort-by-attributes\n",
    ".icon-sort-by-attributes-alt\n",
    ".icon-sort-by-order\n",
    ".icon-sort-by-order-alt\n",
    ".icon-thumbs-up\n",
    ".icon-thumbs-down\n",
    ".icon-youtube-sign\n",
    ".icon-youtube\n",
    ".icon-xing\n",
    ".icon-xing-sign\n",
    ".icon-youtube-play\n",
    ".icon-dropbox\n",
    ".icon-stackexchange\n",
    ".icon-instagram\n",
    ".icon-flickr\n",
    ".icon-adn\n",
    ".icon-bitbucket\n",
    ".icon-bitbucket-sign\n",
    ".icon-tumblr\n",
    ".icon-tumblr-sign\n",
    ".icon-long-arrow-down\n",
    ".icon-long-arrow-up\n",
    ".icon-long-arrow-left\n",
    ".icon-long-arrow-right\n",
    ".icon-apple\n",
    ".icon-windows\n",
    ".icon-android\n",
    ".icon-linux\n",
    ".icon-dribbble\n",
    ".icon-skype\n",
    ".icon-foursquare\n",
    ".icon-trello\n",
    ".icon-female\n",
    ".icon-male\n",
    ".icon-gittip\n",
    ".icon-sun\n",
    ".icon-moon\n",
    ".icon-archive\n",
    ".icon-bug\n",
    ".icon-vk\n",
    ".icon-weibo\n",
    ".icon-renren"
   ]
  },
  {
   "cell_type": "code",
   "execution_count": null,
   "metadata": {
    "collapsed": true
   },
   "outputs": [],
   "source": []
  }
 ],
 "metadata": {
  "kernelspec": {
   "display_name": "Python 2",
   "language": "python",
   "name": "python2"
  },
  "language_info": {
   "codemirror_mode": {
    "name": "ipython",
    "version": 2
   },
   "file_extension": ".py",
   "mimetype": "text/x-python",
   "name": "python",
   "nbconvert_exporter": "python",
   "pygments_lexer": "ipython2",
   "version": "2.7.10"
  }
 },
 "nbformat": 4,
 "nbformat_minor": 0
}
